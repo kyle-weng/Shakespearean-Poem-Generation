{
 "cells": [
  {
   "cell_type": "markdown",
   "metadata": {},
   "source": [
    "# Util demo"
   ]
  },
  {
   "cell_type": "code",
   "execution_count": 1,
   "metadata": {},
   "outputs": [],
   "source": [
    "import numpy as np\n",
    "import matplotlib.pyplot as plt\n",
    "import literate"
   ]
  },
  {
   "cell_type": "code",
   "execution_count": 2,
   "metadata": {},
   "outputs": [
    {
     "name": "stdout",
     "output_type": "stream",
     "text": [
      "154 sonnets\n",
      " 3205 unique words\n",
      " 3205 words in dictionary\n"
     ]
    }
   ],
   "source": [
    "syldict = literate.syldict(\"data/Syllable_dictionary.txt\")\n",
    "data, words = literate.read(\"data/shakespeare.txt\", syldict)\n",
    "\n",
    "print(len(data), \"sonnets\\n\",\n",
    "      len(words), \"unique words\\n\",\n",
    "      len(syldict), \"words in dictionary\")"
   ]
  },
  {
   "cell_type": "code",
   "execution_count": 3,
   "metadata": {},
   "outputs": [
    {
     "data": {
      "text/plain": [
       "[]"
      ]
     },
     "execution_count": 3,
     "metadata": {},
     "output_type": "execute_result"
    }
   ],
   "source": [
    "# words we're currently missing\n",
    "[w for w in words if w not in syldict]"
   ]
  },
  {
   "cell_type": "code",
   "execution_count": 4,
   "metadata": {},
   "outputs": [
    {
     "data": {
      "text/plain": [
       "(array([3.0000e+00, 6.0000e+01, 2.9400e+02, 1.0000e+01, 0.0000e+00,\n",
       "        1.4207e+04, 2.4810e+03, 4.4300e+02, 8.1000e+01, 3.0000e+00]),\n",
       " array([-3. , -2.2, -1.4, -0.6,  0.2,  1. ,  1.8,  2.6,  3.4,  4.2,  5. ]),\n",
       " <a list of 10 Patch objects>)"
      ]
     },
     "execution_count": 4,
     "metadata": {},
     "output_type": "execute_result"
    },
    {
     "data": {
      "image/png": "[encoded data removed]",
      "text/plain": [
       "<Figure size 432x288 with 1 Axes>"
      ]
     },
     "metadata": {
      "needs_background": "light"
     },
     "output_type": "display_data"
    }
   ],
   "source": [
    "syluse = [syldict[w][0] if w in syldict else 0 for s in data for l in s for w in l]\n",
    "\n",
    "plt.title(\"Syllable counts in sonnets\")\n",
    "plt.hist(syluse)"
   ]
  },
  {
   "cell_type": "code",
   "execution_count": 5,
   "metadata": {},
   "outputs": [
    {
     "data": {
      "text/plain": [
       "(array([   2.,   38.,   86.,    2.,    0., 1336., 1320.,  342.,   76.,\n",
       "           3.]),\n",
       " array([-3. , -2.2, -1.4, -0.6,  0.2,  1. ,  1.8,  2.6,  3.4,  4.2,  5. ]),\n",
       " <a list of 10 Patch objects>)"
      ]
     },
     "execution_count": 5,
     "metadata": {},
     "output_type": "execute_result"
    },
    {
     "data": {
      "image/png": "[encoded data removed]",
      "text/plain": [
       "<Figure size 432x288 with 1 Axes>"
      ]
     },
     "metadata": {
      "needs_background": "light"
     },
     "output_type": "display_data"
    }
   ],
   "source": [
    "plt.title(\"Syllable counts in dictionary\")\n",
    "plt.hist([syldict[w][0] for w in syldict])"
   ]
  }
 ],
 "metadata": {
  "kernelspec": {
   "display_name": "Python 3",
   "language": "python",
   "name": "python3"
  },
  "language_info": {
   "codemirror_mode": {
    "name": "ipython",
    "version": 3
   },
   "file_extension": ".py",
   "mimetype": "text/x-python",
   "name": "python",
   "nbconvert_exporter": "python",
   "pygments_lexer": "ipython3",
   "version": "3.8.1"
  }
 },
 "nbformat": 4,
 "nbformat_minor": 4
}
